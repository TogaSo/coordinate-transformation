{
 "cells": [
  {
   "cell_type": "code",
   "execution_count": null,
   "id": "0e458fb8",
   "metadata": {},
   "outputs": [],
   "source": [
    "#*******************************************************************#\n",
    "# Orijin Etrafında 3 Boyutlu Döndürme kodudur.\n",
    "#\n",
    "#İNPUTLAR:\n",
    "#inputlara gerekli açı ve noktalar girilmelidir.\n",
    "#\n",
    "#\n",
    "#OUTPUTLAR:\n",
    "#1. output ilk döndürmeyi verir\n",
    "#2. output ikinci döndürmeyi verir\n",
    "#3. output üçüncü döndürmeyi verir\n",
    "#Not: Her partta çıkan noktayı ve döndürmeyi ilgili yere girmeniz gerekmektedir.\n",
    "#\n",
    "#Yazar: TogaSo - 17.12.2022\n",
    "#\n",
    "#İşlemler:\n",
    "#Bazı Formüllerin yazılıma aktarılması\n",
    "#Dönüşüm parametrelerin uygulanması\n",
    "#*******************************************************************#"
   ]
  },
  {
   "cell_type": "code",
   "execution_count": 2,
   "id": "b92fe186",
   "metadata": {},
   "outputs": [],
   "source": [
    "import numpy as np\n",
    "import pandas as pd\n",
    "import math"
   ]
  },
  {
   "cell_type": "code",
   "execution_count": 3,
   "id": "919f88dd",
   "metadata": {},
   "outputs": [
    {
     "name": "stdout",
     "output_type": "stream",
     "text": [
      "döndürme açısı20\n",
      "xp100\n",
      "yp120\n",
      "zp200\n",
      "[[ 0.93975313  0.          0.34185385]\n",
      " [ 0.          1.          0.        ]\n",
      " [-0.34185385  0.          0.93975313]]\n",
      "[[100]\n",
      " [120]\n",
      " [200]]\n",
      "[[162.34608276]\n",
      " [120.        ]\n",
      " [153.76524124]]\n"
     ]
    }
   ],
   "source": [
    "#part1 x ekseninde döndürme\n",
    "eks= int(input(\"döndürme açısı\"))\n",
    "xpp= int(input(\"xp\"))\n",
    "ypp= int(input(\"yp\"))\n",
    "zpp= int(input(\"zp\"))\n",
    "pi = 3.14\n",
    "x = np.array([[math.cos(int(eks)*pi/180), 0 , math.sin(-int(eks)*pi/180)], [0,1,0], [math.sin(int(eks)*pi/180), 0 , math.cos(int(eks)*pi/180)]])\n",
    "xpose = x.transpose()\n",
    "xa= np.array([[(int(xpp))], [int(ypp)], [int(zpp)]])\n",
    "print(xpose)\n",
    "print(xa)\n",
    "\n",
    "C = xpose.dot(xa)\n",
    "print(C)"
   ]
  },
  {
   "cell_type": "code",
   "execution_count": 6,
   "id": "458bc7ba",
   "metadata": {},
   "outputs": [
    {
     "name": "stdout",
     "output_type": "stream",
     "text": [
      "döndürme açısı25\n",
      "xp197\n",
      "yp40\n",
      "zp153\n",
      "[[ 0.90640125  0.42241777  0.        ]\n",
      " [-0.42241777  0.90640125  0.        ]\n",
      " [ 0.          1.          0.        ]]\n",
      "[[197]\n",
      " [ 40]\n",
      " [153]]\n",
      "[[195.45775699]\n",
      " [-46.96025161]\n",
      " [ 40.        ]]\n"
     ]
    }
   ],
   "source": [
    "#part2 z ekseninde döndürme\n",
    "ekk= int(input(\"döndürme açısı\"))\n",
    "xpx= int(input(\"xp\"))\n",
    "ypy= int(input(\"yp\"))\n",
    "zpz= int(input(\"zp\"))\n",
    "pi = 3.14\n",
    "z = np.array([[math.cos(int(ekk)*pi/180), math.sin(int(ekk)*pi/180) , 0], [math.sin(-int(ekk)*pi/180), math.cos(int(ekk)*pi/180) , 0], [0,1,0]])\n",
    "xb= np.array([[(int(xpx))], [int(ypy)], [int(zpz)]])\n",
    "print(z)\n",
    "print(xb)\n",
    "D = z.dot(xb)\n",
    "print(D)\n",
    "\n"
   ]
  },
  {
   "cell_type": "code",
   "execution_count": 7,
   "id": "53144a80",
   "metadata": {},
   "outputs": [
    {
     "name": "stdout",
     "output_type": "stream",
     "text": [
      "döndürme açısı7\n",
      "xp197\n",
      "yp40\n",
      "zp153\n",
      "[[ 0.9925537   0.         -0.12180787]\n",
      " [ 0.          1.          0.        ]\n",
      " [ 0.12180787  0.          0.9925537 ]]\n",
      "[[197]\n",
      " [ 40]\n",
      " [153]]\n",
      "[[176.89647464]\n",
      " [ 40.        ]\n",
      " [175.85686584]]\n"
     ]
    }
   ],
   "source": [
    "#part3 y ekseninde döndürme\n",
    "eke= int(input(\"döndürme açısı\"))\n",
    "xpl= int(input(\"xp\"))\n",
    "ypl= int(input(\"yp\"))\n",
    "zpl= int(input(\"zp\"))\n",
    "pi = 3.14\n",
    "y = np.array([[math.cos(int(eke)*pi/180), 0 , math.sin(-int(eke)*pi/180)], [0,1,0] , [math.sin(int(eke)*pi/180), 0 , math.cos(int(eke)*pi/180)]])\n",
    "xy= np.array([[(int(xpl))], [int(ypl)], [int(zpl)]])\n",
    "print(y)\n",
    "print(xy)\n",
    "H = y.dot(xy)\n",
    "print(H)"
   ]
  },
  {
   "cell_type": "code",
   "execution_count": null,
   "id": "07780e44",
   "metadata": {},
   "outputs": [],
   "source": []
  }
 ],
 "metadata": {
  "kernelspec": {
   "display_name": "Python 3 (ipykernel)",
   "language": "python",
   "name": "python3"
  },
  "language_info": {
   "codemirror_mode": {
    "name": "ipython",
    "version": 3
   },
   "file_extension": ".py",
   "mimetype": "text/x-python",
   "name": "python",
   "nbconvert_exporter": "python",
   "pygments_lexer": "ipython3",
   "version": "3.9.13"
  }
 },
 "nbformat": 4,
 "nbformat_minor": 5
}
